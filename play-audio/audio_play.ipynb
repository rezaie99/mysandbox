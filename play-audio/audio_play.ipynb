{
 "cells": [
  {
   "cell_type": "code",
   "execution_count": 4,
   "metadata": {},
   "outputs": [
    {
     "name": "stdout",
     "output_type": "stream",
     "text": [
      "press ENTER to stop playback\n"
     ]
    }
   ],
   "source": [
    "import multiprocessing\n",
    "from playsound import playsound\n",
    "\n",
    "p = multiprocessing.Process(target=playsound, args=(\"/Users/mostafa/Documents/Turkish/CD\\ 1/02\\ Lesson\\ 2\\ Dialogue.mp3\",))\n",
    "p.start()\n",
    "input(\"press ENTER to stop playback\")\n",
    "p.terminate()"
   ]
  },
  {
   "cell_type": "code",
   "execution_count": 6,
   "metadata": {},
   "outputs": [
    {
     "ename": "ModuleNotFoundError",
     "evalue": "No module named 'pyaudio'",
     "output_type": "error",
     "traceback": [
      "\u001b[0;31m---------------------------------------------------------------------------\u001b[0m",
      "\u001b[0;31mModuleNotFoundError\u001b[0m                       Traceback (most recent call last)",
      "\u001b[0;32m<ipython-input-6-fd8301f8b8e4>\u001b[0m in \u001b[0;36m<module>\u001b[0;34m\u001b[0m\n\u001b[0;32m----> 1\u001b[0;31m \u001b[0;32mimport\u001b[0m \u001b[0mpyaudio\u001b[0m\u001b[0;34m\u001b[0m\u001b[0;34m\u001b[0m\u001b[0m\n\u001b[0m\u001b[1;32m      2\u001b[0m \u001b[0;32mimport\u001b[0m \u001b[0mwave\u001b[0m\u001b[0;34m\u001b[0m\u001b[0;34m\u001b[0m\u001b[0m\n\u001b[1;32m      3\u001b[0m \u001b[0;32mimport\u001b[0m \u001b[0mtime\u001b[0m\u001b[0;34m\u001b[0m\u001b[0;34m\u001b[0m\u001b[0m\n\u001b[1;32m      4\u001b[0m \u001b[0;32mfrom\u001b[0m \u001b[0mpynput\u001b[0m \u001b[0;32mimport\u001b[0m \u001b[0mkeyboard\u001b[0m\u001b[0;34m\u001b[0m\u001b[0;34m\u001b[0m\u001b[0m\n\u001b[1;32m      5\u001b[0m \u001b[0;34m\u001b[0m\u001b[0m\n",
      "\u001b[0;31mModuleNotFoundError\u001b[0m: No module named 'pyaudio'"
     ]
    }
   ],
   "source": [
    "import pyaudio\n",
    "import wave\n",
    "import time\n",
    "from pynput import keyboard\n",
    "\n",
    "paused = False    # global to track if the audio is paused\n",
    "def on_press(key):\n",
    "    global paused\n",
    "    print (key)\n",
    "    if key == keyboard.Key.space:\n",
    "        if stream.is_stopped():     # time to play audio\n",
    "            print ('play pressed')\n",
    "            stream.start_stream()\n",
    "            paused = False\n",
    "            return False\n",
    "        elif stream.is_active():   # time to pause audio\n",
    "            print ('pause pressed')\n",
    "            stream.stop_stream()\n",
    "            paused = True\n",
    "            return False\n",
    "    return False\n",
    "\n",
    "\n",
    "# you audio here\n",
    "wf = wave.open('/Users/mostafa/Documents/Turkish/CD\\ 1/02\\ Lesson\\ 2\\ Dialogue.mp3', 'rb')\n",
    "\n",
    "# instantiate PyAudio\n",
    "p = pyaudio.PyAudio()\n",
    "\n",
    "# define callback\n",
    "def callback(in_data, frame_count, time_info, status):\n",
    "    data = wf.readframes(frame_count)\n",
    "    return (data, pyaudio.paContinue)\n",
    "\n",
    "# open stream using callback\n",
    "stream = p.open(format=p.get_format_from_width(wf.getsampwidth()),\n",
    "                channels=wf.getnchannels(),\n",
    "                rate=wf.getframerate(),\n",
    "                output=True,\n",
    "                stream_callback=callback)\n",
    "\n",
    "# start the stream\n",
    "stream.start_stream()\n",
    "\n",
    "while stream.is_active() or paused==True:\n",
    "    with keyboard.Listener(on_press=on_press) as listener:\n",
    "        listener.join()\n",
    "    time.sleep(0.1)\n",
    "\n",
    "# stop stream\n",
    "stream.stop_stream()\n",
    "stream.close()\n",
    "wf.close()\n",
    "\n",
    "# close PyAudio\n",
    "p.terminate()"
   ]
  },
  {
   "cell_type": "code",
   "execution_count": null,
   "metadata": {},
   "outputs": [],
   "source": []
  }
 ],
 "metadata": {
  "kernelspec": {
   "display_name": "Python 3",
   "language": "python",
   "name": "python3"
  },
  "language_info": {
   "codemirror_mode": {
    "name": "ipython",
    "version": 3
   },
   "file_extension": ".py",
   "mimetype": "text/x-python",
   "name": "python",
   "nbconvert_exporter": "python",
   "pygments_lexer": "ipython3",
   "version": "3.8.4"
  }
 },
 "nbformat": 4,
 "nbformat_minor": 4
}
